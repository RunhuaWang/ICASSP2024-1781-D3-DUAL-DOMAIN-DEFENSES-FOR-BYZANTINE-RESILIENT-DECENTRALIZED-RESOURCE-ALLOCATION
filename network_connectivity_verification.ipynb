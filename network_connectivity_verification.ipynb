{
 "cells": [
  {
   "cell_type": "raw",
   "id": "f07e50ff",
   "metadata": {},
   "source": [
    "验证诚实用户间的通信网络是否满足连通的性质"
   ]
  },
  {
   "cell_type": "code",
   "execution_count": 1,
   "id": "7140f44b",
   "metadata": {},
   "outputs": [],
   "source": [
    "#包文件\n",
    "import numpy as np\n",
    "import matplotlib.pyplot as plt\n",
    "import random\n",
    "from sympy import *\n",
    "import math \n",
    "from datetime import datetime"
   ]
  },
  {
   "cell_type": "code",
   "execution_count": 9,
   "id": "eca29a28",
   "metadata": {},
   "outputs": [],
   "source": [
    "W=np.loadtxt(\"100_Network_Topology_Adjacency_Matrix_B_0.0625(the value of bii=0.0625).txt\") #双随机的网络拓扑矩阵W（对角线处非零）\n",
    "#将矩阵W中所有非零的元素赋值为1 方便后续的计算\n",
    "for i in range(0,100):\n",
    "    for j in range(0,100):\n",
    "        if W[i][j]!=0:\n",
    "            W[i][j]=1\n",
    "W_honest=np.empty([94,94],dtype=float)\n",
    "#在通信网络中剔除6个拜占庭用户  6个拜占庭用户：编号94-99\n",
    "for i in range(0,94):\n",
    "    for j in range(0,94):\n",
    "        if W[i][j]!=0:\n",
    "            W_honest[i][j]=1\n",
    "        else:\n",
    "            W_honest[i][j]=0\n",
    "#将矩阵W_honest设置成行随机矩阵\n",
    "degree=[]\n",
    "for i in range(0,94):\n",
    "    d=0\n",
    "    for j in range(0,94):\n",
    "        if W_honest[i][j]!=0:\n",
    "            d=d+1\n",
    "    degree.append(d)\n",
    "\n",
    "for i in range(0,94):\n",
    "    for j in range(0,94):\n",
    "        if W_honest[i][j]!=0:\n",
    "            W_honest[i][j]=(1/degree[i])"
   ]
  },
  {
   "cell_type": "code",
   "execution_count": 14,
   "id": "5af7b416",
   "metadata": {},
   "outputs": [
    {
     "data": {
      "text/plain": [
       "'#验证矩阵W_honest的行随机性\\nfor i in range(0,94):\\n    k=0\\n    for j in range(0,94):\\n        if W_honest[i][j]!=0:\\n            k=k+W_honest[i][j]\\n    print(k)'"
      ]
     },
     "execution_count": 14,
     "metadata": {},
     "output_type": "execute_result"
    }
   ],
   "source": [
    "'''#验证矩阵W_honest的行随机性\n",
    "for i in range(0,94):\n",
    "    k=0\n",
    "    for j in range(0,94):\n",
    "        if W_honest[i][j]!=0:\n",
    "            k=k+W_honest[i][j]\n",
    "    print(k)'''"
   ]
  },
  {
   "cell_type": "raw",
   "id": "d1a80a30",
   "metadata": {},
   "source": [
    "计算矩阵W_honest-1/94*1*1^T*W_honest的二范数"
   ]
  },
  {
   "cell_type": "code",
   "execution_count": 15,
   "id": "34fbe851",
   "metadata": {},
   "outputs": [],
   "source": [
    "#生成矩阵1*1^T\n",
    "one=np.empty([94,94],dtype=int)\n",
    "for i in range(0,94):\n",
    "    for j in range(0,94):\n",
    "        one[i][j]=1"
   ]
  },
  {
   "cell_type": "code",
   "execution_count": 16,
   "id": "e67a498b",
   "metadata": {},
   "outputs": [],
   "source": [
    "#将数组转换成矩阵\n",
    "one_mat=np.matrix(one)\n",
    "W_honest_mat=np.matrix(W_honest)\n",
    "#将矩阵W_honest_mat变成行随机矩阵\n",
    "for i in range(0,94):\n",
    "    for j in range(0,94):\n",
    "        one[i][j]=1"
   ]
  },
  {
   "cell_type": "code",
   "execution_count": null,
   "id": "ee6d0bb4",
   "metadata": {},
   "outputs": [],
   "source": [
    "计算矩阵W_honest-1/94*1*1^T*W_honest的二范数平方 A的二范数平方等于A^T*A的最大特征值"
   ]
  },
  {
   "cell_type": "code",
   "execution_count": 17,
   "id": "124f5943",
   "metadata": {},
   "outputs": [
    {
     "data": {
      "text/plain": [
       "matrix([[ 0.06155502,  0.06211714, -0.01111468, ..., -0.01010151,\n",
       "         -0.01152628, -0.01063343],\n",
       "        [ 0.06704953,  0.06761164,  0.06580839, ..., -0.01010151,\n",
       "          0.06539679, -0.01063343],\n",
       "        [-0.00987355,  0.05318857,  0.05138532, ..., -0.01010151,\n",
       "         -0.01152628, -0.01063343],\n",
       "        ...,\n",
       "        [-0.00987355, -0.00931143, -0.01111468, ...,  0.06132706,\n",
       "          0.05990229, -0.01063343],\n",
       "        [-0.00987355,  0.05318857, -0.01111468, ...,  0.05239849,\n",
       "          0.05097372,  0.05186657],\n",
       "        [-0.00987355, -0.00931143, -0.01111468, ..., -0.01010151,\n",
       "          0.05514038,  0.05603324]])"
      ]
     },
     "execution_count": 17,
     "metadata": {},
     "output_type": "execute_result"
    }
   ],
   "source": [
    "W_honest_mat-(1/94)*one_mat*W_honest_mat"
   ]
  },
  {
   "cell_type": "code",
   "execution_count": 18,
   "id": "61d30462",
   "metadata": {},
   "outputs": [
    {
     "data": {
      "text/plain": [
       "matrix([[ 0.06155502,  0.06704953, -0.00987355, ..., -0.00987355,\n",
       "         -0.00987355, -0.00987355],\n",
       "        [ 0.06211714,  0.06761164,  0.05318857, ..., -0.00931143,\n",
       "          0.05318857, -0.00931143],\n",
       "        [-0.01111468,  0.06580839,  0.05138532, ..., -0.01111468,\n",
       "         -0.01111468, -0.01111468],\n",
       "        ...,\n",
       "        [-0.01010151, -0.01010151, -0.01010151, ...,  0.06132706,\n",
       "          0.05239849, -0.01010151],\n",
       "        [-0.01152628,  0.06539679, -0.01152628, ...,  0.05990229,\n",
       "          0.05097372,  0.05514038],\n",
       "        [-0.01063343, -0.01063343, -0.01063343, ..., -0.01063343,\n",
       "          0.05186657,  0.05603324]])"
      ]
     },
     "execution_count": 18,
     "metadata": {},
     "output_type": "execute_result"
    }
   ],
   "source": [
    "(W_honest_mat-(1/94)*one_mat*W_honest_mat).T"
   ]
  },
  {
   "cell_type": "code",
   "execution_count": 19,
   "id": "a02aa1a3",
   "metadata": {},
   "outputs": [],
   "source": [
    "e1, v1 = np.linalg.eig((W_honest_mat-(1/94)*one_mat*W_honest_mat).T*(W_honest_mat-(1/94)*one_mat*W_honest_mat))"
   ]
  },
  {
   "cell_type": "code",
   "execution_count": 20,
   "id": "c16aa454",
   "metadata": {},
   "outputs": [
    {
     "data": {
      "text/plain": [
       "0.23478622569081084"
      ]
     },
     "execution_count": 20,
     "metadata": {},
     "output_type": "execute_result"
    }
   ],
   "source": [
    "max(e1)#最大特征值"
   ]
  },
  {
   "cell_type": "code",
   "execution_count": 21,
   "id": "a0238c3c",
   "metadata": {},
   "outputs": [
    {
     "data": {
      "text/plain": [
       "4.124372826770639e-17"
      ]
     },
     "execution_count": 21,
     "metadata": {},
     "output_type": "execute_result"
    }
   ],
   "source": [
    "min(e1)"
   ]
  },
  {
   "cell_type": "raw",
   "id": "62123fbc",
   "metadata": {},
   "source": [
    "结论：经过计算得到诚实用户间的通信网络是连通的 满足Assumption6"
   ]
  }
 ],
 "metadata": {
  "kernelspec": {
   "display_name": "Python 3 (ipykernel)",
   "language": "python",
   "name": "python3"
  },
  "language_info": {
   "codemirror_mode": {
    "name": "ipython",
    "version": 3
   },
   "file_extension": ".py",
   "mimetype": "text/x-python",
   "name": "python",
   "nbconvert_exporter": "python",
   "pygments_lexer": "ipython3",
   "version": "3.9.13"
  }
 },
 "nbformat": 4,
 "nbformat_minor": 5
}
