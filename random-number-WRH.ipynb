{
 "cells": [
  {
   "cell_type": "markdown",
   "metadata": {},
   "source": [
    "# 生成服从某种分布的随机数"
   ]
  },
  {
   "cell_type": "raw",
   "metadata": {},
   "source": [
    "均匀分布 [1,2]"
   ]
  },
  {
   "cell_type": "code",
   "execution_count": 1,
   "metadata": {},
   "outputs": [],
   "source": [
    "import random\n",
    "import numpy as np"
   ]
  },
  {
   "cell_type": "code",
   "execution_count": 2,
   "metadata": {},
   "outputs": [],
   "source": [
    "random_number_uniform_distribution_1_2 = np.random.uniform(1,2,[1,100])"
   ]
  },
  {
   "cell_type": "code",
   "execution_count": 3,
   "metadata": {},
   "outputs": [
    {
     "data": {
      "text/plain": [
       "array([[1.25783199, 1.26717522, 1.14789655, 1.85759825, 1.23043679,\n",
       "        1.28290691, 1.05296536, 1.53071461, 1.06575368, 1.29914221,\n",
       "        1.0456117 , 1.84678327, 1.39036098, 1.7303911 , 1.67783439,\n",
       "        1.43935529, 1.42604694, 1.51997519, 1.55475726, 1.40766052,\n",
       "        1.00292065, 1.1569779 , 1.14261166, 1.79007185, 1.33176271,\n",
       "        1.4299553 , 1.48195035, 1.74625006, 1.61665737, 1.77455063,\n",
       "        1.0761184 , 1.166541  , 1.44952411, 1.95602513, 1.7040961 ,\n",
       "        1.11756011, 1.77214011, 1.21935074, 1.9866739 , 1.44105415,\n",
       "        1.95915807, 1.2383497 , 1.15481147, 1.47278139, 1.6825356 ,\n",
       "        1.02842181, 1.06770483, 1.75782335, 1.82017063, 1.10506581,\n",
       "        1.9175334 , 1.52895089, 1.62825646, 1.42063001, 1.44845211,\n",
       "        1.64409984, 1.92704017, 1.1947673 , 1.16356873, 1.70482182,\n",
       "        1.55155446, 1.93320366, 1.58747191, 1.3858341 , 1.43796602,\n",
       "        1.30224121, 1.59037964, 1.83748803, 1.40387853, 1.62954208,\n",
       "        1.38574419, 1.36456486, 1.01308332, 1.09597434, 1.00593876,\n",
       "        1.03493256, 1.89835402, 1.22633539, 1.99207307, 1.69848105,\n",
       "        1.07803357, 1.58168541, 1.29355414, 1.34131246, 1.20079025,\n",
       "        1.28976868, 1.40630321, 1.30044533, 1.62587604, 1.86662305,\n",
       "        1.64537265, 1.59596797, 1.97156449, 1.90321525, 1.87706968,\n",
       "        1.32039796, 1.50688657, 1.28450602, 1.98371109, 1.4683934 ]])"
      ]
     },
     "execution_count": 3,
     "metadata": {},
     "output_type": "execute_result"
    }
   ],
   "source": [
    "random_number_uniform_distribution_1_2"
   ]
  },
  {
   "cell_type": "code",
   "execution_count": 4,
   "metadata": {},
   "outputs": [],
   "source": [
    "np.savetxt('100_uniform_distribution_(1,2).txt',random_number_uniform_distribution_1_2,fmt='%0.8f')#数据存储"
   ]
  },
  {
   "cell_type": "code",
   "execution_count": 5,
   "metadata": {},
   "outputs": [],
   "source": [
    "beta= np.loadtxt(\"100_uniform_distribution_(1,2).txt\")"
   ]
  },
  {
   "cell_type": "code",
   "execution_count": 6,
   "metadata": {},
   "outputs": [
    {
     "data": {
      "text/plain": [
       "array([1.25783199, 1.26717522, 1.14789655, 1.85759825, 1.23043679,\n",
       "       1.28290691, 1.05296536, 1.53071461, 1.06575368, 1.29914221,\n",
       "       1.0456117 , 1.84678327, 1.39036098, 1.7303911 , 1.67783439,\n",
       "       1.43935529, 1.42604694, 1.51997519, 1.55475726, 1.40766052,\n",
       "       1.00292065, 1.1569779 , 1.14261166, 1.79007185, 1.33176271,\n",
       "       1.4299553 , 1.48195035, 1.74625006, 1.61665737, 1.77455063,\n",
       "       1.0761184 , 1.166541  , 1.44952411, 1.95602513, 1.7040961 ,\n",
       "       1.11756011, 1.77214011, 1.21935074, 1.9866739 , 1.44105415,\n",
       "       1.95915807, 1.2383497 , 1.15481147, 1.47278139, 1.6825356 ,\n",
       "       1.02842181, 1.06770483, 1.75782335, 1.82017063, 1.10506581,\n",
       "       1.9175334 , 1.52895089, 1.62825646, 1.42063001, 1.44845211,\n",
       "       1.64409984, 1.92704017, 1.1947673 , 1.16356873, 1.70482182,\n",
       "       1.55155446, 1.93320366, 1.58747191, 1.3858341 , 1.43796602,\n",
       "       1.30224121, 1.59037964, 1.83748803, 1.40387853, 1.62954208,\n",
       "       1.38574419, 1.36456486, 1.01308332, 1.09597434, 1.00593876,\n",
       "       1.03493256, 1.89835402, 1.22633539, 1.99207307, 1.69848105,\n",
       "       1.07803357, 1.58168541, 1.29355414, 1.34131246, 1.20079025,\n",
       "       1.28976868, 1.40630321, 1.30044533, 1.62587604, 1.86662305,\n",
       "       1.64537265, 1.59596797, 1.97156449, 1.90321525, 1.87706968,\n",
       "       1.32039796, 1.50688657, 1.28450602, 1.98371109, 1.4683934 ])"
      ]
     },
     "execution_count": 6,
     "metadata": {},
     "output_type": "execute_result"
    }
   ],
   "source": [
    "beta"
   ]
  },
  {
   "cell_type": "code",
   "execution_count": null,
   "metadata": {},
   "outputs": [],
   "source": [
    "均匀分布 [1,5]"
   ]
  },
  {
   "cell_type": "code",
   "execution_count": 1,
   "metadata": {},
   "outputs": [],
   "source": [
    "import random\n",
    "import numpy as np"
   ]
  },
  {
   "cell_type": "code",
   "execution_count": 2,
   "metadata": {},
   "outputs": [],
   "source": [
    "random_number_uniform_distribution_1_5 = np.random.uniform(1,5,[1,100])"
   ]
  },
  {
   "cell_type": "code",
   "execution_count": 3,
   "metadata": {},
   "outputs": [
    {
     "data": {
      "text/plain": [
       "array([[1.60844991, 3.65808662, 3.68890768, 2.98507906, 3.76464985,\n",
       "        4.05363412, 2.91643007, 1.02185413, 2.95895051, 2.08018148,\n",
       "        2.63944884, 1.85531403, 2.92540045, 3.62516688, 1.27856281,\n",
       "        3.58883066, 1.44501357, 2.969968  , 1.38401624, 4.47181971,\n",
       "        2.89672479, 1.07748424, 2.55532007, 4.19741922, 2.6311741 ,\n",
       "        1.40098149, 4.5838269 , 3.17254103, 2.18045774, 4.87300647,\n",
       "        1.33362961, 2.10877799, 4.04673231, 3.17042634, 1.8578354 ,\n",
       "        2.89712472, 3.95441154, 2.65544822, 1.67925931, 4.96523578,\n",
       "        2.133358  , 2.93065441, 1.14106244, 4.54750791, 4.60091988,\n",
       "        2.1683684 , 4.33120101, 2.14188599, 4.84625196, 1.03320333,\n",
       "        2.79920513, 4.17256517, 2.80200786, 4.60859095, 3.20603975,\n",
       "        1.89751431, 2.06909847, 2.01485056, 4.9286433 , 1.97463684,\n",
       "        3.76081892, 2.98913236, 4.01901631, 1.17618915, 4.95993912,\n",
       "        4.77789143, 4.01447923, 1.13101653, 3.66360705, 1.62432505,\n",
       "        2.34719454, 2.40507836, 1.45437604, 2.65415898, 3.0387698 ,\n",
       "        1.84790364, 4.15271456, 1.4078244 , 2.91940279, 4.50127584,\n",
       "        2.97370893, 1.45595119, 1.98261302, 1.76076799, 4.19063047,\n",
       "        2.42349161, 4.07050208, 4.96165154, 3.77068364, 1.86719679,\n",
       "        1.48319889, 2.04973901, 1.70675682, 4.91961071, 3.31826003,\n",
       "        2.02518543, 1.36405698, 2.29430642, 1.28732784, 2.19965049]])"
      ]
     },
     "execution_count": 3,
     "metadata": {},
     "output_type": "execute_result"
    }
   ],
   "source": [
    "random_number_uniform_distribution_1_5"
   ]
  },
  {
   "cell_type": "code",
   "execution_count": 4,
   "metadata": {},
   "outputs": [],
   "source": [
    "np.savetxt('100_uniform_distribution_(1,5).txt',random_number_uniform_distribution_1_5,fmt='%0.8f')#数据存储"
   ]
  },
  {
   "cell_type": "code",
   "execution_count": 5,
   "metadata": {},
   "outputs": [],
   "source": [
    "beta= np.loadtxt(\"100_uniform_distribution_(1,5).txt\")"
   ]
  },
  {
   "cell_type": "code",
   "execution_count": 6,
   "metadata": {
    "scrolled": true
   },
   "outputs": [
    {
     "data": {
      "text/plain": [
       "array([1.60844991, 3.65808662, 3.68890768, 2.98507906, 3.76464985,\n",
       "       4.05363412, 2.91643007, 1.02185413, 2.95895051, 2.08018148,\n",
       "       2.63944884, 1.85531403, 2.92540045, 3.62516688, 1.27856281,\n",
       "       3.58883066, 1.44501357, 2.969968  , 1.38401624, 4.47181971,\n",
       "       2.89672479, 1.07748424, 2.55532007, 4.19741922, 2.6311741 ,\n",
       "       1.40098149, 4.5838269 , 3.17254103, 2.18045774, 4.87300647,\n",
       "       1.33362961, 2.10877799, 4.04673231, 3.17042634, 1.8578354 ,\n",
       "       2.89712472, 3.95441154, 2.65544822, 1.67925931, 4.96523578,\n",
       "       2.133358  , 2.93065441, 1.14106244, 4.54750791, 4.60091988,\n",
       "       2.1683684 , 4.33120101, 2.14188599, 4.84625196, 1.03320333,\n",
       "       2.79920513, 4.17256517, 2.80200786, 4.60859095, 3.20603975,\n",
       "       1.89751431, 2.06909847, 2.01485056, 4.9286433 , 1.97463684,\n",
       "       3.76081892, 2.98913236, 4.01901631, 1.17618915, 4.95993912,\n",
       "       4.77789143, 4.01447923, 1.13101653, 3.66360705, 1.62432505,\n",
       "       2.34719454, 2.40507836, 1.45437604, 2.65415898, 3.0387698 ,\n",
       "       1.84790364, 4.15271456, 1.4078244 , 2.91940279, 4.50127584,\n",
       "       2.97370893, 1.45595119, 1.98261302, 1.76076799, 4.19063047,\n",
       "       2.42349161, 4.07050208, 4.96165154, 3.77068364, 1.86719679,\n",
       "       1.48319889, 2.04973901, 1.70675682, 4.91961071, 3.31826003,\n",
       "       2.02518543, 1.36405698, 2.29430642, 1.28732784, 2.19965049])"
      ]
     },
     "execution_count": 6,
     "metadata": {},
     "output_type": "execute_result"
    }
   ],
   "source": [
    "beta"
   ]
  },
  {
   "cell_type": "code",
   "execution_count": null,
   "metadata": {},
   "outputs": [],
   "source": [
    "均匀分布 [1,10]"
   ]
  },
  {
   "cell_type": "code",
   "execution_count": 1,
   "metadata": {},
   "outputs": [],
   "source": [
    "import random\n",
    "import numpy as np"
   ]
  },
  {
   "cell_type": "code",
   "execution_count": 2,
   "metadata": {},
   "outputs": [],
   "source": [
    "random_number_uniform_distribution_1_10 = np.random.uniform(1,10,[1,100])"
   ]
  },
  {
   "cell_type": "code",
   "execution_count": 3,
   "metadata": {},
   "outputs": [
    {
     "data": {
      "text/plain": [
       "array([[6.02999846, 7.68221765, 2.37431326, 9.18456453, 8.61540041,\n",
       "        8.05783703, 3.85278947, 5.14118998, 9.42286966, 9.8195751 ,\n",
       "        9.45943725, 6.37915781, 7.58644582, 8.40401258, 2.98641625,\n",
       "        8.44939934, 2.10288078, 4.08601776, 1.15036756, 5.59552458,\n",
       "        5.76901777, 7.38583294, 2.08568616, 3.14572465, 7.59864281,\n",
       "        9.45993182, 4.40122487, 1.02767904, 7.32688559, 4.44496675,\n",
       "        9.43767996, 4.86798721, 6.99714085, 8.6218739 , 3.47237683,\n",
       "        6.16130562, 4.93204422, 8.81647327, 1.21569122, 8.95183453,\n",
       "        8.64341464, 6.30940171, 3.47041563, 9.83847472, 1.29716269,\n",
       "        8.71945831, 4.96699611, 3.76106496, 7.44072593, 6.85229243,\n",
       "        8.37044564, 6.27570277, 9.50335395, 8.1603551 , 7.16078984,\n",
       "        3.55720118, 4.27350956, 6.19421753, 4.41916224, 9.38118585,\n",
       "        7.35769086, 3.73223102, 4.77937887, 3.44406425, 8.99870186,\n",
       "        3.08947194, 2.41092697, 1.36748879, 8.82018629, 5.37189948,\n",
       "        9.15649992, 5.63668968, 4.89063135, 3.63887113, 6.45910168,\n",
       "        4.34954616, 6.07857448, 9.20495495, 5.06517245, 2.59178212,\n",
       "        7.97004892, 8.27614706, 5.91607193, 1.64826496, 6.09872399,\n",
       "        1.9807178 , 4.77601826, 4.98005431, 2.25346684, 2.38918131,\n",
       "        5.68662975, 3.57994733, 3.64462649, 9.17378335, 8.32697686,\n",
       "        7.2587802 , 3.32196064, 2.61836993, 4.7566737 , 8.23505201]])"
      ]
     },
     "execution_count": 3,
     "metadata": {},
     "output_type": "execute_result"
    }
   ],
   "source": [
    "random_number_uniform_distribution_1_10"
   ]
  },
  {
   "cell_type": "code",
   "execution_count": 4,
   "metadata": {},
   "outputs": [],
   "source": [
    "np.savetxt('100_uniform_distribution_(1,10).txt',random_number_uniform_distribution_1_10,fmt='%0.8f')#数据存储"
   ]
  },
  {
   "cell_type": "code",
   "execution_count": null,
   "metadata": {},
   "outputs": [],
   "source": []
  },
  {
   "cell_type": "raw",
   "metadata": {},
   "source": [
    "正态分布/高斯分布"
   ]
  },
  {
   "cell_type": "code",
   "execution_count": 1,
   "metadata": {},
   "outputs": [],
   "source": [
    "import numpy as np\n",
    "import matplotlib.pyplot as plt\n",
    "import random\n",
    "from sympy import *\n",
    "import math"
   ]
  },
  {
   "cell_type": "code",
   "execution_count": 2,
   "metadata": {},
   "outputs": [],
   "source": [
    "mu1 = 2  #期望为2\n",
    "sigma1 = 0.5  #标准差为0.5\n",
    "num1 = 100  #个数为100"
   ]
  },
  {
   "cell_type": "code",
   "execution_count": 3,
   "metadata": {},
   "outputs": [],
   "source": [
    "random_number_normal_distribution1 = np.random.normal(mu1, sigma1, num1)"
   ]
  },
  {
   "cell_type": "code",
   "execution_count": 4,
   "metadata": {},
   "outputs": [
    {
     "data": {
      "text/plain": [
       "array([2.0131095 , 2.37112388, 2.32601467, 2.78362927, 1.7888142 ,\n",
       "       1.87018678, 2.78207212, 2.2555877 , 2.48181774, 2.49729343,\n",
       "       2.61947152, 1.03801012, 2.33926864, 2.01239784, 2.15351547,\n",
       "       1.87839803, 1.96247835, 1.43048284, 1.90391084, 1.92143645,\n",
       "       2.52330762, 2.17439435, 2.67102623, 2.00736804, 2.1982785 ,\n",
       "       3.47724629, 2.51318156, 1.96584948, 2.14282221, 0.96454698,\n",
       "       1.47610928, 2.34085961, 1.30329286, 2.16299025, 3.39649489,\n",
       "       1.92853727, 1.7115244 , 1.59487813, 2.32463201, 1.96796188,\n",
       "       2.05160838, 2.66902703, 2.52379064, 1.73074322, 2.18080131,\n",
       "       1.58320895, 1.28783139, 3.2630748 , 0.73613497, 2.37401142,\n",
       "       1.40440407, 1.66422874, 1.73703194, 1.24785044, 1.56932011,\n",
       "       1.86259804, 1.75214326, 2.16446162, 2.21344714, 1.75768663,\n",
       "       1.27935057, 1.8622756 , 2.36952681, 1.93679368, 2.79859412,\n",
       "       1.54144633, 2.89919759, 2.08740453, 2.03977203, 1.7522328 ,\n",
       "       1.97032361, 1.60463203, 2.27813822, 2.87659778, 1.92592682,\n",
       "       1.72314118, 2.10051022, 2.41226795, 2.08733243, 2.05398407,\n",
       "       2.40670103, 2.73917522, 2.57436229, 2.41288572, 1.69865895,\n",
       "       1.84281631, 1.37642469, 1.69130813, 1.99045001, 1.48707871,\n",
       "       2.74348322, 1.55217505, 1.57708112, 1.41652946, 1.90635988,\n",
       "       2.09425502, 1.99535411, 1.624614  , 2.20173012, 2.13302572])"
      ]
     },
     "execution_count": 4,
     "metadata": {},
     "output_type": "execute_result"
    }
   ],
   "source": [
    "random_number_normal_distribution1"
   ]
  },
  {
   "cell_type": "code",
   "execution_count": 5,
   "metadata": {},
   "outputs": [],
   "source": [
    "np.savetxt('100_normal_distribution_(2,0.5).txt',random_number_normal_distribution1,fmt='%0.8f')#数据存储"
   ]
  },
  {
   "cell_type": "code",
   "execution_count": null,
   "metadata": {},
   "outputs": [],
   "source": []
  },
  {
   "cell_type": "code",
   "execution_count": 2,
   "metadata": {},
   "outputs": [],
   "source": [
    "beta1= np.loadtxt(\"100_normal_distribution_(2,0.5).txt\")"
   ]
  },
  {
   "cell_type": "code",
   "execution_count": 3,
   "metadata": {},
   "outputs": [
    {
     "data": {
      "text/plain": [
       "array([2.17873359, 1.64284145, 1.23541358, 0.97813179, 1.71686938,\n",
       "       2.64928211, 2.17307674, 2.76028989, 2.30586291, 2.36479842,\n",
       "       0.88929258, 2.89622287, 2.59889959, 1.64570238, 1.23498142,\n",
       "       2.4424011 , 1.89965965, 1.22105334, 2.58321402, 1.17941805,\n",
       "       2.51265711, 1.71720884, 1.66930558, 1.45004392, 1.67071154,\n",
       "       2.29680927, 1.28281271, 3.1881966 , 2.10425121, 2.1482376 ,\n",
       "       2.31984585, 1.65244241, 1.57874722, 2.13533089, 2.82251264,\n",
       "       1.2312412 , 1.96776781, 2.84033336, 1.88260104, 2.79158914,\n",
       "       2.73420478, 1.97502477, 2.12159902, 2.16509263, 2.31146054,\n",
       "       2.34389722, 2.12268066, 0.97924063, 2.93273858, 2.47289778,\n",
       "       1.86689783, 1.26296607, 2.57642353, 2.61559053, 1.61427542,\n",
       "       1.59142345, 1.04585986, 1.87672692, 1.9547608 , 1.56846367,\n",
       "       2.42819653, 1.82832922, 2.79875038, 1.84683484, 2.47968495,\n",
       "       2.38067638, 1.63652828, 1.91171103, 1.79326861, 1.43903245,\n",
       "       1.72864674, 1.64745757, 1.67962167, 2.14270211, 2.14521406,\n",
       "       1.52627592, 1.45764772, 2.11132014, 2.62213424, 2.01439662,\n",
       "       1.7646796 , 1.11355657, 2.58330067, 1.28124549, 2.29506448,\n",
       "       2.04183376, 1.22712077, 1.18022839, 1.97589041, 2.33972304,\n",
       "       2.30230474, 1.99612984, 3.08609985, 1.39676761, 2.13469787,\n",
       "       1.94525664, 1.92734678, 2.08273309, 1.52932978, 2.06510224])"
      ]
     },
     "execution_count": 3,
     "metadata": {},
     "output_type": "execute_result"
    }
   ],
   "source": [
    "beta1"
   ]
  },
  {
   "cell_type": "code",
   "execution_count": 4,
   "metadata": {},
   "outputs": [
    {
     "data": {
      "text/plain": [
       "0.88929258"
      ]
     },
     "execution_count": 4,
     "metadata": {},
     "output_type": "execute_result"
    }
   ],
   "source": [
    "min(beta1)#对应下标为10"
   ]
  },
  {
   "cell_type": "code",
   "execution_count": 5,
   "metadata": {},
   "outputs": [
    {
     "data": {
      "text/plain": [
       "3.1881966"
      ]
     },
     "execution_count": 5,
     "metadata": {},
     "output_type": "execute_result"
    }
   ],
   "source": [
    "max(beta1)#对应下标为27"
   ]
  },
  {
   "cell_type": "code",
   "execution_count": 6,
   "metadata": {},
   "outputs": [
    {
     "data": {
      "text/plain": [
       "0.88929258"
      ]
     },
     "execution_count": 6,
     "metadata": {},
     "output_type": "execute_result"
    }
   ],
   "source": [
    "beta1[10]"
   ]
  },
  {
   "cell_type": "code",
   "execution_count": 7,
   "metadata": {},
   "outputs": [
    {
     "data": {
      "text/plain": [
       "3.1881966"
      ]
     },
     "execution_count": 7,
     "metadata": {},
     "output_type": "execute_result"
    }
   ],
   "source": [
    "beta1[27]"
   ]
  },
  {
   "cell_type": "code",
   "execution_count": 8,
   "metadata": {},
   "outputs": [
    {
     "data": {
      "text/plain": [
       "1.04585986"
      ]
     },
     "execution_count": 8,
     "metadata": {},
     "output_type": "execute_result"
    }
   ],
   "source": [
    "beta1[56]"
   ]
  },
  {
   "cell_type": "code",
   "execution_count": 9,
   "metadata": {},
   "outputs": [
    {
     "data": {
      "text/plain": [
       "1.22105334"
      ]
     },
     "execution_count": 9,
     "metadata": {},
     "output_type": "execute_result"
    }
   ],
   "source": [
    "beta1[17]"
   ]
  },
  {
   "cell_type": "code",
   "execution_count": 10,
   "metadata": {},
   "outputs": [
    {
     "data": {
      "text/plain": [
       "1.43903245"
      ]
     },
     "execution_count": 10,
     "metadata": {},
     "output_type": "execute_result"
    }
   ],
   "source": [
    "beta1[69]"
   ]
  },
  {
   "cell_type": "code",
   "execution_count": 11,
   "metadata": {},
   "outputs": [
    {
     "data": {
      "text/plain": [
       "1.61427542"
      ]
     },
     "execution_count": 11,
     "metadata": {},
     "output_type": "execute_result"
    }
   ],
   "source": [
    "beta1[54]"
   ]
  },
  {
   "cell_type": "code",
   "execution_count": 12,
   "metadata": {},
   "outputs": [
    {
     "data": {
      "text/plain": [
       "1.82832922"
      ]
     },
     "execution_count": 12,
     "metadata": {},
     "output_type": "execute_result"
    }
   ],
   "source": [
    "beta1[61]"
   ]
  },
  {
   "cell_type": "code",
   "execution_count": 13,
   "metadata": {},
   "outputs": [
    {
     "data": {
      "text/plain": [
       "2.01439662"
      ]
     },
     "execution_count": 13,
     "metadata": {},
     "output_type": "execute_result"
    }
   ],
   "source": [
    "beta1[79]"
   ]
  },
  {
   "cell_type": "code",
   "execution_count": 14,
   "metadata": {},
   "outputs": [
    {
     "data": {
      "text/plain": [
       "2.17873359"
      ]
     },
     "execution_count": 14,
     "metadata": {},
     "output_type": "execute_result"
    }
   ],
   "source": [
    "beta1[0]"
   ]
  },
  {
   "cell_type": "code",
   "execution_count": 15,
   "metadata": {},
   "outputs": [
    {
     "data": {
      "text/plain": [
       "2.42819653"
      ]
     },
     "execution_count": 15,
     "metadata": {},
     "output_type": "execute_result"
    }
   ],
   "source": [
    "beta1[60]"
   ]
  },
  {
   "cell_type": "code",
   "execution_count": 16,
   "metadata": {},
   "outputs": [
    {
     "data": {
      "text/plain": [
       "2.59889959"
      ]
     },
     "execution_count": 16,
     "metadata": {},
     "output_type": "execute_result"
    }
   ],
   "source": [
    "beta1[12]"
   ]
  },
  {
   "cell_type": "code",
   "execution_count": 18,
   "metadata": {},
   "outputs": [
    {
     "data": {
      "text/plain": [
       "2.79158914"
      ]
     },
     "execution_count": 18,
     "metadata": {},
     "output_type": "execute_result"
    }
   ],
   "source": [
    "beta1[39]"
   ]
  },
  {
   "cell_type": "code",
   "execution_count": 19,
   "metadata": {},
   "outputs": [
    {
     "data": {
      "text/plain": [
       "3.08609985"
      ]
     },
     "execution_count": 19,
     "metadata": {},
     "output_type": "execute_result"
    }
   ],
   "source": [
    "beta1[92]"
   ]
  },
  {
   "cell_type": "code",
   "execution_count": 48,
   "metadata": {},
   "outputs": [],
   "source": [
    "mu2 = 1.5  #期望为1.5\n",
    "sigma2 = 0.5  #标准差为0.5\n",
    "num2 = 100  #个数为100"
   ]
  },
  {
   "cell_type": "code",
   "execution_count": 49,
   "metadata": {},
   "outputs": [],
   "source": [
    "random_number_normal_distribution2 = np.random.normal(mu2, sigma2, num2)"
   ]
  },
  {
   "cell_type": "code",
   "execution_count": 50,
   "metadata": {},
   "outputs": [
    {
     "data": {
      "text/plain": [
       "array([ 0.43815973, -0.20599683,  1.0173102 ,  2.927707  ,  1.25811432,\n",
       "        1.04653124,  1.57632012,  2.31282907,  1.04362649,  0.7718326 ,\n",
       "        2.24899723,  1.63209193,  1.23614794,  1.0847583 ,  1.83576878,\n",
       "        2.68137436,  1.33645975, -1.06448814,  0.75075933,  2.00262328,\n",
       "        2.70035139,  1.61161205,  1.67898743,  2.0664908 ,  0.30711565,\n",
       "       -0.6077713 ,  1.66279029,  1.25620845,  2.53792934,  1.68306391,\n",
       "        1.79807805,  1.04562502, -0.07728079,  2.69383114,  2.68617411,\n",
       "        0.87396964,  2.93522336,  1.36641345,  2.35743557,  1.86246481,\n",
       "        0.63136844,  2.8672349 ,  0.98737114,  1.5635073 ,  1.66873225,\n",
       "        1.70237817,  0.87814885,  1.65185924,  0.40797503,  0.20993135,\n",
       "        1.70157125,  3.09896356,  1.62689907,  0.91693261,  2.70243546,\n",
       "        2.45366853,  2.31137133,  2.27826309,  1.2508792 ,  1.71447335,\n",
       "        0.17158559,  1.50554056,  0.81697509,  1.59531823,  3.68529739,\n",
       "        2.13330099,  1.51353397,  0.65428661,  2.04501141,  0.49065915,\n",
       "        2.735342  ,  0.24577518,  0.72420399,  0.26991538, -0.23880415,\n",
       "        0.17802845,  0.55843468,  0.97539774,  1.41113762,  2.12242176,\n",
       "        2.40456039,  2.18959589,  1.23310672,  2.08066559,  0.50703056,\n",
       "        1.33709152,  1.60290656,  0.4841704 ,  2.13676405,  0.68371322,\n",
       "        1.05202879,  1.69426075,  1.11222246,  0.86541378,  1.72159626,\n",
       "        2.60268377,  2.42390657,  0.32926542,  2.13189644,  3.5189069 ])"
      ]
     },
     "execution_count": 50,
     "metadata": {},
     "output_type": "execute_result"
    }
   ],
   "source": [
    "random_number_normal_distribution2"
   ]
  },
  {
   "cell_type": "code",
   "execution_count": 8,
   "metadata": {},
   "outputs": [],
   "source": [
    "np.savetxt('100_normal_distribution_(1.5,0.5).txt',random_number_normal_distribution2,fmt='%0.8f')#数据存储"
   ]
  },
  {
   "cell_type": "code",
   "execution_count": 5,
   "metadata": {},
   "outputs": [],
   "source": [
    "beta2= np.loadtxt(\"100_normal_distribution_(1.5,0.5).txt\")"
   ]
  },
  {
   "cell_type": "code",
   "execution_count": 6,
   "metadata": {},
   "outputs": [
    {
     "data": {
      "text/plain": [
       "array([1.16261421, 1.18913002, 1.40582045, 1.72190423, 0.91344743,\n",
       "       1.66886535, 1.37605706, 1.91832855, 1.94121017, 1.26432396,\n",
       "       2.46107815, 2.08878071, 1.04672576, 1.97905964, 0.79278105,\n",
       "       0.17569105, 1.27730379, 0.73561249, 2.32152292, 1.45539966,\n",
       "       1.57153983, 1.64796816, 1.99216528, 2.02023437, 1.32815952,\n",
       "       2.02338335, 1.53331959, 1.05314804, 1.28975434, 1.90113909,\n",
       "       1.91350456, 1.23112236, 0.91458295, 1.16285467, 1.34964419,\n",
       "       1.46872462, 2.09501149, 1.03358866, 1.61381138, 1.19378152,\n",
       "       1.34957416, 1.37055746, 1.90402677, 1.42533035, 2.39435538,\n",
       "       1.81074377, 0.95319445, 1.68940503, 1.28877447, 1.84154526,\n",
       "       0.63655894, 2.37512963, 1.44372201, 1.61506031, 1.39554537,\n",
       "       1.12103648, 0.31736609, 1.67863568, 1.59198207, 1.72810627,\n",
       "       1.06709249, 1.12490165, 0.98027755, 1.73691014, 1.15648534,\n",
       "       1.52633526, 1.96196425, 1.88653111, 1.65363427, 1.2008204 ,\n",
       "       1.35726721, 1.33066252, 2.52655975, 1.77708625, 1.39806602,\n",
       "       1.68295106, 2.72223649, 2.19467357, 0.98571916, 1.38256214,\n",
       "       1.09452911, 1.74485429, 2.13747124, 2.12112654, 1.2720647 ,\n",
       "       0.59306692, 0.61393807, 1.28683086, 1.73928453, 2.26240937,\n",
       "       0.40232704, 0.58549865, 1.59471811, 2.07514374, 1.59059391,\n",
       "       0.67777371, 2.04214496, 1.06982918, 1.99310305, 1.60337239])"
      ]
     },
     "execution_count": 6,
     "metadata": {},
     "output_type": "execute_result"
    }
   ],
   "source": [
    "beta2"
   ]
  },
  {
   "cell_type": "code",
   "execution_count": 11,
   "metadata": {},
   "outputs": [
    {
     "data": {
      "text/plain": [
       "0.17569105"
      ]
     },
     "execution_count": 11,
     "metadata": {},
     "output_type": "execute_result"
    }
   ],
   "source": [
    "min(beta2)#对应下标为15"
   ]
  },
  {
   "cell_type": "code",
   "execution_count": 18,
   "metadata": {},
   "outputs": [
    {
     "data": {
      "text/plain": [
       "0.17569105"
      ]
     },
     "execution_count": 18,
     "metadata": {},
     "output_type": "execute_result"
    }
   ],
   "source": [
    "beta2[15]"
   ]
  },
  {
   "cell_type": "code",
   "execution_count": 17,
   "metadata": {},
   "outputs": [
    {
     "data": {
      "text/plain": [
       "2.72223649"
      ]
     },
     "execution_count": 17,
     "metadata": {},
     "output_type": "execute_result"
    }
   ],
   "source": [
    "max(beta2)#对应下标为76"
   ]
  },
  {
   "cell_type": "code",
   "execution_count": 19,
   "metadata": {},
   "outputs": [
    {
     "data": {
      "text/plain": [
       "2.72223649"
      ]
     },
     "execution_count": 19,
     "metadata": {},
     "output_type": "execute_result"
    }
   ],
   "source": [
    "beta2[76]"
   ]
  },
  {
   "cell_type": "code",
   "execution_count": 22,
   "metadata": {},
   "outputs": [
    {
     "data": {
      "image/png": "[encoded data removed]",
      "text/plain": [
       "<Figure size 432x288 with 1 Axes>"
      ]
     },
     "metadata": {
      "needs_background": "light"
     },
     "output_type": "display_data"
    }
   ],
   "source": [
    "plt.hist(beta2, bins=100)\n",
    "plt.show()"
   ]
  },
  {
   "cell_type": "code",
   "execution_count": 23,
   "metadata": {},
   "outputs": [
    {
     "data": {
      "text/plain": [
       "0.63655894"
      ]
     },
     "execution_count": 23,
     "metadata": {},
     "output_type": "execute_result"
    }
   ],
   "source": [
    "beta2[50]"
   ]
  },
  {
   "cell_type": "code",
   "execution_count": 24,
   "metadata": {},
   "outputs": [
    {
     "data": {
      "text/plain": [
       "0.40232704"
      ]
     },
     "execution_count": 24,
     "metadata": {},
     "output_type": "execute_result"
    }
   ],
   "source": [
    "beta2[90]"
   ]
  },
  {
   "cell_type": "code",
   "execution_count": 25,
   "metadata": {},
   "outputs": [
    {
     "data": {
      "text/plain": [
       "1.03358866"
      ]
     },
     "execution_count": 25,
     "metadata": {},
     "output_type": "execute_result"
    }
   ],
   "source": [
    "beta2[37]"
   ]
  },
  {
   "cell_type": "code",
   "execution_count": 26,
   "metadata": {},
   "outputs": [
    {
     "data": {
      "text/plain": [
       "1.12103648"
      ]
     },
     "execution_count": 26,
     "metadata": {},
     "output_type": "execute_result"
    }
   ],
   "source": [
    "beta2[55]"
   ]
  },
  {
   "cell_type": "code",
   "execution_count": 27,
   "metadata": {},
   "outputs": [
    {
     "data": {
      "text/plain": [
       "1.2008204"
      ]
     },
     "execution_count": 27,
     "metadata": {},
     "output_type": "execute_result"
    }
   ],
   "source": [
    "beta2[69]"
   ]
  },
  {
   "cell_type": "code",
   "execution_count": 28,
   "metadata": {},
   "outputs": [
    {
     "data": {
      "text/plain": [
       "1.32815952"
      ]
     },
     "execution_count": 28,
     "metadata": {},
     "output_type": "execute_result"
    }
   ],
   "source": [
    "beta2[24]"
   ]
  },
  {
   "cell_type": "code",
   "execution_count": 29,
   "metadata": {},
   "outputs": [
    {
     "data": {
      "text/plain": [
       "1.40582045"
      ]
     },
     "execution_count": 29,
     "metadata": {},
     "output_type": "execute_result"
    }
   ],
   "source": [
    "beta2[2]"
   ]
  },
  {
   "cell_type": "code",
   "execution_count": 30,
   "metadata": {},
   "outputs": [
    {
     "data": {
      "text/plain": [
       "1.52633526"
      ]
     },
     "execution_count": 30,
     "metadata": {},
     "output_type": "execute_result"
    }
   ],
   "source": [
    "beta2[65]"
   ]
  },
  {
   "cell_type": "code",
   "execution_count": 31,
   "metadata": {},
   "outputs": [
    {
     "data": {
      "text/plain": [
       "1.61381138"
      ]
     },
     "execution_count": 31,
     "metadata": {},
     "output_type": "execute_result"
    }
   ],
   "source": [
    "beta2[38]"
   ]
  },
  {
   "cell_type": "code",
   "execution_count": 32,
   "metadata": {},
   "outputs": [
    {
     "data": {
      "text/plain": [
       "1.72190423"
      ]
     },
     "execution_count": 32,
     "metadata": {},
     "output_type": "execute_result"
    }
   ],
   "source": [
    "beta2[3]"
   ]
  },
  {
   "cell_type": "code",
   "execution_count": 33,
   "metadata": {},
   "outputs": [
    {
     "data": {
      "text/plain": [
       "1.81074377"
      ]
     },
     "execution_count": 33,
     "metadata": {},
     "output_type": "execute_result"
    }
   ],
   "source": [
    "beta2[45]"
   ]
  },
  {
   "cell_type": "code",
   "execution_count": 34,
   "metadata": {},
   "outputs": [
    {
     "data": {
      "text/plain": [
       "1.90113909"
      ]
     },
     "execution_count": 34,
     "metadata": {},
     "output_type": "execute_result"
    }
   ],
   "source": [
    "beta2[29]"
   ]
  },
  {
   "cell_type": "code",
   "execution_count": 35,
   "metadata": {},
   "outputs": [
    {
     "data": {
      "text/plain": [
       "2.02023437"
      ]
     },
     "execution_count": 35,
     "metadata": {},
     "output_type": "execute_result"
    }
   ],
   "source": [
    "beta2[23]"
   ]
  },
  {
   "cell_type": "code",
   "execution_count": 36,
   "metadata": {},
   "outputs": [
    {
     "data": {
      "text/plain": [
       "2.19467357"
      ]
     },
     "execution_count": 36,
     "metadata": {},
     "output_type": "execute_result"
    }
   ],
   "source": [
    "beta2[77]"
   ]
  },
  {
   "cell_type": "code",
   "execution_count": 37,
   "metadata": {},
   "outputs": [
    {
     "data": {
      "text/plain": [
       "2.39435538"
      ]
     },
     "execution_count": 37,
     "metadata": {},
     "output_type": "execute_result"
    }
   ],
   "source": [
    "beta2[44]"
   ]
  },
  {
   "cell_type": "code",
   "execution_count": 38,
   "metadata": {},
   "outputs": [
    {
     "data": {
      "text/plain": [
       "2.52655975"
      ]
     },
     "execution_count": 38,
     "metadata": {},
     "output_type": "execute_result"
    }
   ],
   "source": [
    "beta2[72]"
   ]
  },
  {
   "cell_type": "code",
   "execution_count": 1,
   "metadata": {},
   "outputs": [],
   "source": [
    "import numpy as np\n",
    "import matplotlib.pyplot as plt\n",
    "import random\n",
    "from sympy import *\n",
    "import math"
   ]
  },
  {
   "cell_type": "code",
   "execution_count": 2,
   "metadata": {},
   "outputs": [],
   "source": [
    "mu3 = 2  #期望为2.5\n",
    "sigma3 = 0.5  #标准差为1\n",
    "num3 = 100  #个数为100"
   ]
  },
  {
   "cell_type": "code",
   "execution_count": 3,
   "metadata": {},
   "outputs": [],
   "source": [
    "random_number_normal_distribution3 = np.random.normal(mu3, sigma3, num3)"
   ]
  },
  {
   "cell_type": "code",
   "execution_count": 4,
   "metadata": {},
   "outputs": [
    {
     "data": {
      "text/plain": [
       "array([2.45768972, 2.4482274 , 3.02576363, 0.77627056, 2.71686595,\n",
       "       2.10970195, 2.48056484, 2.48681258, 2.53869713, 1.27682121,\n",
       "       3.32866859, 1.65948509, 1.06001807, 2.49492996, 0.86878892,\n",
       "       2.4221971 , 2.57220665, 2.555705  , 2.02386848, 1.42049108,\n",
       "       2.51372115, 2.31720076, 2.39118826, 1.25597404, 1.98352011,\n",
       "       2.55500846, 1.42849957, 1.30893322, 1.78367535, 1.54751763,\n",
       "       2.70321501, 3.51027614, 2.44098072, 1.67541904, 1.73981667,\n",
       "       1.52095348, 2.39521763, 2.01933483, 2.11645173, 1.22206561,\n",
       "       1.66004826, 2.65223325, 2.12819188, 2.82304015, 2.79854065,\n",
       "       1.41419935, 2.38161296, 1.9446945 , 2.05560361, 1.76431334,\n",
       "       1.68626238, 1.6082284 , 1.9651881 , 1.92405929, 2.16473824,\n",
       "       2.81776214, 1.12004375, 2.69170957, 2.88346004, 1.06841901,\n",
       "       2.07579975, 2.11763597, 2.61107804, 1.45846134, 1.98701583,\n",
       "       2.73522076, 1.72612314, 1.88320371, 1.97872628, 2.1100449 ,\n",
       "       2.06608094, 2.20923728, 1.81290211, 1.98682803, 2.51966336,\n",
       "       1.85404353, 2.99333429, 1.85352137, 2.25611659, 1.18447483,\n",
       "       1.75980687, 1.15963832, 2.10212721, 3.0344621 , 2.63641569,\n",
       "       1.89044286, 2.02674183, 2.02361695, 1.87314224, 1.99671941,\n",
       "       1.74773416, 2.54585787, 1.86163849, 2.26867811, 2.56189527,\n",
       "       2.07540395, 1.10270043, 0.76081879, 2.1710623 , 2.10300249])"
      ]
     },
     "execution_count": 4,
     "metadata": {},
     "output_type": "execute_result"
    }
   ],
   "source": [
    "random_number_normal_distribution3"
   ]
  },
  {
   "cell_type": "code",
   "execution_count": 5,
   "metadata": {},
   "outputs": [],
   "source": [
    "np.savetxt('100_normal_distribution_(2,0.5).txt',random_number_normal_distribution3,fmt='%0.8f')#数据存储"
   ]
  },
  {
   "cell_type": "code",
   "execution_count": 24,
   "metadata": {},
   "outputs": [],
   "source": [
    "beta3= np.loadtxt(\"100_normal_distribution_(2.5,1.5).txt\")"
   ]
  },
  {
   "cell_type": "code",
   "execution_count": 25,
   "metadata": {},
   "outputs": [
    {
     "data": {
      "text/plain": [
       "array([0.69930186, 2.43257295, 1.99640131, 2.0106931 , 1.58569736,\n",
       "       5.63492108, 2.22564268, 2.45859655, 2.25725047, 3.99154724,\n",
       "       4.22288931, 1.28924664, 2.66034083, 0.64928629, 1.31385661,\n",
       "       0.86914507, 3.74971654, 4.04057454, 3.80732157, 2.49648478,\n",
       "       2.56812847, 3.34535723, 3.84020668, 3.23994211, 3.17619944,\n",
       "       1.94502257, 3.86364443, 2.06009857, 2.47283046, 0.87289718,\n",
       "       0.87413635, 3.60778587, 2.37944041, 4.73768185, 2.03371725,\n",
       "       3.72164043, 2.92105567, 2.25731541, 3.41080258, 2.69582311,\n",
       "       3.13044102, 3.04479798, 3.8535316 , 1.58769897, 2.28568175,\n",
       "       2.15154249, 2.78517995, 2.73166362, 0.08497632, 3.75077096,\n",
       "       0.71592696, 2.06448759, 4.06533381, 0.83041262, 3.28002599,\n",
       "       3.86806594, 4.17991567, 3.08034697, 0.1141218 , 3.5167973 ,\n",
       "       4.27309675, 2.74190313, 2.32488793, 4.31891751, 4.13109772,\n",
       "       1.18454074, 5.52164429, 2.94379402, 1.63579966, 3.79302298,\n",
       "       2.62883712, 4.27638672, 1.77109521, 1.2743288 , 3.26861451,\n",
       "       1.41011321, 0.88204489, 3.51900262, 3.50251355, 3.05194096,\n",
       "       2.83112971, 0.74673035, 4.60984664, 0.46535796, 1.66385797,\n",
       "       0.82301091, 1.92000929, 0.11891782, 3.41354562, 0.25401122,\n",
       "       3.10711276, 4.20692151, 3.63571275, 5.90957391, 3.10765766,\n",
       "       4.47259636, 3.24975592, 0.81573488, 3.91360053, 1.58963945])"
      ]
     },
     "execution_count": 25,
     "metadata": {},
     "output_type": "execute_result"
    }
   ],
   "source": [
    "beta3"
   ]
  },
  {
   "cell_type": "code",
   "execution_count": 26,
   "metadata": {},
   "outputs": [
    {
     "data": {
      "text/plain": [
       "0.08497632"
      ]
     },
     "execution_count": 26,
     "metadata": {},
     "output_type": "execute_result"
    }
   ],
   "source": [
    "min(beta3)"
   ]
  },
  {
   "cell_type": "code",
   "execution_count": 27,
   "metadata": {},
   "outputs": [
    {
     "data": {
      "text/plain": [
       "5.90957391"
      ]
     },
     "execution_count": 27,
     "metadata": {},
     "output_type": "execute_result"
    }
   ],
   "source": [
    "max(beta3)"
   ]
  },
  {
   "cell_type": "code",
   "execution_count": 28,
   "metadata": {},
   "outputs": [
    {
     "data": {
      "text/plain": [
       "0.08497632"
      ]
     },
     "execution_count": 28,
     "metadata": {},
     "output_type": "execute_result"
    }
   ],
   "source": [
    "beta3[48]"
   ]
  },
  {
   "cell_type": "code",
   "execution_count": 30,
   "metadata": {},
   "outputs": [
    {
     "data": {
      "text/plain": [
       "0.46535796"
      ]
     },
     "execution_count": 30,
     "metadata": {},
     "output_type": "execute_result"
    }
   ],
   "source": [
    "beta3[83]"
   ]
  },
  {
   "cell_type": "code",
   "execution_count": 31,
   "metadata": {},
   "outputs": [
    {
     "data": {
      "text/plain": [
       "0.87413635"
      ]
     },
     "execution_count": 31,
     "metadata": {},
     "output_type": "execute_result"
    }
   ],
   "source": [
    "beta3[30]"
   ]
  },
  {
   "cell_type": "code",
   "execution_count": 32,
   "metadata": {},
   "outputs": [
    {
     "data": {
      "text/plain": [
       "1.2743288"
      ]
     },
     "execution_count": 32,
     "metadata": {},
     "output_type": "execute_result"
    }
   ],
   "source": [
    "beta3[73]"
   ]
  },
  {
   "cell_type": "code",
   "execution_count": 33,
   "metadata": {},
   "outputs": [
    {
     "data": {
      "text/plain": [
       "1.77109521"
      ]
     },
     "execution_count": 33,
     "metadata": {},
     "output_type": "execute_result"
    }
   ],
   "source": [
    "beta3[72]"
   ]
  },
  {
   "cell_type": "code",
   "execution_count": 34,
   "metadata": {},
   "outputs": [
    {
     "data": {
      "text/plain": [
       "2.22564268"
      ]
     },
     "execution_count": 34,
     "metadata": {},
     "output_type": "execute_result"
    }
   ],
   "source": [
    "beta3[6]"
   ]
  },
  {
   "cell_type": "code",
   "execution_count": 35,
   "metadata": {},
   "outputs": [
    {
     "data": {
      "text/plain": [
       "2.62883712"
      ]
     },
     "execution_count": 35,
     "metadata": {},
     "output_type": "execute_result"
    }
   ],
   "source": [
    "beta3[70]"
   ]
  },
  {
   "cell_type": "code",
   "execution_count": 36,
   "metadata": {},
   "outputs": [
    {
     "data": {
      "text/plain": [
       "3.04479798"
      ]
     },
     "execution_count": 36,
     "metadata": {},
     "output_type": "execute_result"
    }
   ],
   "source": [
    "beta3[41]"
   ]
  },
  {
   "cell_type": "code",
   "execution_count": 37,
   "metadata": {},
   "outputs": [
    {
     "data": {
      "text/plain": [
       "3.60778587"
      ]
     },
     "execution_count": 37,
     "metadata": {},
     "output_type": "execute_result"
    }
   ],
   "source": [
    "beta3[31]"
   ]
  },
  {
   "cell_type": "code",
   "execution_count": 38,
   "metadata": {},
   "outputs": [
    {
     "data": {
      "text/plain": [
       "4.06533381"
      ]
     },
     "execution_count": 38,
     "metadata": {},
     "output_type": "execute_result"
    }
   ],
   "source": [
    "beta3[52]"
   ]
  },
  {
   "cell_type": "code",
   "execution_count": 39,
   "metadata": {},
   "outputs": [
    {
     "data": {
      "text/plain": [
       "4.60984664"
      ]
     },
     "execution_count": 39,
     "metadata": {},
     "output_type": "execute_result"
    }
   ],
   "source": [
    "beta3[82]"
   ]
  },
  {
   "cell_type": "code",
   "execution_count": 40,
   "metadata": {},
   "outputs": [
    {
     "data": {
      "text/plain": [
       "5.52164429"
      ]
     },
     "execution_count": 40,
     "metadata": {},
     "output_type": "execute_result"
    }
   ],
   "source": [
    "beta3[66]"
   ]
  },
  {
   "cell_type": "code",
   "execution_count": 41,
   "metadata": {},
   "outputs": [
    {
     "data": {
      "text/plain": [
       "5.90957391"
      ]
     },
     "execution_count": 41,
     "metadata": {},
     "output_type": "execute_result"
    }
   ],
   "source": [
    "beta3[93]"
   ]
  },
  {
   "cell_type": "code",
   "execution_count": 1,
   "metadata": {},
   "outputs": [],
   "source": [
    "import numpy as np\n",
    "import matplotlib.pyplot as plt\n",
    "import random\n",
    "from sympy import *\n",
    "import math"
   ]
  },
  {
   "cell_type": "code",
   "execution_count": 2,
   "metadata": {},
   "outputs": [],
   "source": [
    "mu4 = 1.5  #期望为2.5\n",
    "sigma4 = 1  #标准差为1\n",
    "num4 = 100  #个数为100"
   ]
  },
  {
   "cell_type": "code",
   "execution_count": 3,
   "metadata": {},
   "outputs": [],
   "source": [
    "k=0\n",
    "while (k!=100):\n",
    "    k=0\n",
    "    random_number_normal_distribution4 = np.random.normal(mu4, sigma4, num4)\n",
    "    for i in range(0,100):\n",
    "        if (random_number_normal_distribution4[i]>0):\n",
    "            k=k+1        "
   ]
  },
  {
   "cell_type": "code",
   "execution_count": 4,
   "metadata": {},
   "outputs": [
    {
     "data": {
      "text/plain": [
       "array([2.40003068, 1.99002277, 1.32270827, 1.07772853, 1.1483818 ,\n",
       "       1.62314531, 0.1225558 , 2.84762089, 1.70175647, 2.43244638,\n",
       "       2.14558003, 0.091892  , 1.02008179, 1.75046788, 0.79447021,\n",
       "       2.1957361 , 1.69846807, 1.59221516, 0.85585835, 1.57896019,\n",
       "       2.56417719, 1.45063863, 1.63146334, 1.02829041, 2.11235326,\n",
       "       0.73665347, 1.17773904, 1.20620844, 1.09958464, 1.96776361,\n",
       "       1.86112611, 1.86586233, 0.99600552, 0.71778669, 0.4884332 ,\n",
       "       0.63430462, 0.87366435, 2.04901462, 1.63449527, 1.13684768,\n",
       "       0.31473865, 0.65546701, 0.19146791, 3.5625739 , 1.89726708,\n",
       "       1.3966472 , 1.93150886, 1.40334015, 0.81716929, 3.36229179,\n",
       "       0.92241038, 1.45591798, 2.53269244, 3.67518667, 2.3336521 ,\n",
       "       0.69689832, 2.17396998, 1.14532802, 0.03065578, 1.59155753,\n",
       "       2.79957121, 0.04596804, 1.40139526, 2.72818528, 0.96708293,\n",
       "       1.57455707, 1.75382747, 1.74684368, 2.7912983 , 1.71546035,\n",
       "       1.41754912, 2.26053395, 1.52889019, 1.06916157, 1.78707415,\n",
       "       2.99379471, 1.91226945, 1.27012134, 0.37957214, 0.96708821,\n",
       "       2.44621348, 1.42718827, 1.28471538, 2.50276866, 1.951541  ,\n",
       "       2.31878201, 1.51977803, 1.16057857, 0.0872941 , 3.71236871,\n",
       "       0.4597451 , 2.36412841, 1.13485896, 1.64633726, 2.93643738,\n",
       "       3.12138602, 0.14677576, 2.09153861, 2.54147932, 0.17749687])"
      ]
     },
     "execution_count": 4,
     "metadata": {},
     "output_type": "execute_result"
    }
   ],
   "source": [
    "random_number_normal_distribution4"
   ]
  },
  {
   "cell_type": "code",
   "execution_count": 5,
   "metadata": {},
   "outputs": [],
   "source": [
    "np.savetxt('100_normal_distribution_(1.5,1).txt',random_number_normal_distribution4,fmt='%0.8f')#数据存储"
   ]
  },
  {
   "cell_type": "code",
   "execution_count": 8,
   "metadata": {},
   "outputs": [],
   "source": [
    "beta4= np.loadtxt(\"100_normal_distribution_(1.5,1).txt\")"
   ]
  },
  {
   "cell_type": "code",
   "execution_count": 9,
   "metadata": {},
   "outputs": [
    {
     "data": {
      "text/plain": [
       "array([1.34221958, 3.11504657, 1.07487605, 1.64752183, 1.54063966,\n",
       "       2.19038483, 0.02310201, 1.90639393, 0.19185341, 1.90049329,\n",
       "       2.1879027 , 2.35977849, 2.08858372, 1.68564396, 0.65433767,\n",
       "       1.34040922, 2.85895279, 1.34251023, 2.01578794, 2.8374111 ,\n",
       "       2.0082683 , 0.87421491, 2.27932955, 4.62340954, 2.34421069,\n",
       "       0.72474394, 1.08921551, 0.66224079, 1.43967712, 1.39304982,\n",
       "       2.74566986, 2.40989051, 2.51350213, 0.69292202, 0.89140469,\n",
       "       2.58116798, 3.27215605, 1.41790022, 1.03413788, 1.62181844,\n",
       "       2.26056184, 1.85170115, 1.67938998, 2.07996675, 1.76479165,\n",
       "       2.13065256, 3.02944685, 1.43653813, 0.97264958, 0.80575293,\n",
       "       1.62889706, 0.29414577, 1.37237326, 1.83012092, 1.94278049,\n",
       "       3.07469548, 2.57926893, 0.56104972, 0.24488675, 0.54324968,\n",
       "       0.78953567, 2.24266858, 1.767176  , 2.16954658, 1.08166435,\n",
       "       2.23040567, 0.15356285, 1.68039873, 2.81181242, 0.80858534,\n",
       "       0.76243985, 2.47043353, 2.33537156, 1.7080581 , 2.35008265,\n",
       "       2.76343993, 0.26297318, 2.25461956, 1.87749245, 0.51020972,\n",
       "       1.06463706, 0.93165469, 2.9919806 , 1.7082835 , 1.14289554,\n",
       "       2.26252222, 1.80924025, 1.26829148, 2.783946  , 0.22836119,\n",
       "       0.04569776, 2.69647796, 1.11578027, 1.2244081 , 0.93103184,\n",
       "       2.04637956, 2.42953602, 2.29277693, 2.8231218 , 1.80743223])"
      ]
     },
     "execution_count": 9,
     "metadata": {},
     "output_type": "execute_result"
    }
   ],
   "source": [
    "beta4"
   ]
  },
  {
   "cell_type": "code",
   "execution_count": 10,
   "metadata": {},
   "outputs": [
    {
     "data": {
      "text/plain": [
       "0.02310201"
      ]
     },
     "execution_count": 10,
     "metadata": {},
     "output_type": "execute_result"
    }
   ],
   "source": [
    "min(beta4)"
   ]
  },
  {
   "cell_type": "code",
   "execution_count": 11,
   "metadata": {},
   "outputs": [
    {
     "data": {
      "text/plain": [
       "4.62340954"
      ]
     },
     "execution_count": 11,
     "metadata": {},
     "output_type": "execute_result"
    }
   ],
   "source": [
    "max(beta4)"
   ]
  },
  {
   "cell_type": "code",
   "execution_count": 12,
   "metadata": {},
   "outputs": [
    {
     "data": {
      "text/plain": [
       "0.02310201"
      ]
     },
     "execution_count": 12,
     "metadata": {},
     "output_type": "execute_result"
    }
   ],
   "source": [
    "beta4[6]"
   ]
  },
  {
   "cell_type": "code",
   "execution_count": 14,
   "metadata": {},
   "outputs": [
    {
     "data": {
      "text/plain": [
       "0.29414577"
      ]
     },
     "execution_count": 14,
     "metadata": {},
     "output_type": "execute_result"
    }
   ],
   "source": [
    "beta4[51]"
   ]
  },
  {
   "cell_type": "code",
   "execution_count": 15,
   "metadata": {},
   "outputs": [
    {
     "data": {
      "text/plain": [
       "0.51020972"
      ]
     },
     "execution_count": 15,
     "metadata": {},
     "output_type": "execute_result"
    }
   ],
   "source": [
    "beta4[79]"
   ]
  },
  {
   "cell_type": "code",
   "execution_count": 16,
   "metadata": {},
   "outputs": [
    {
     "data": {
      "text/plain": [
       "0.87421491"
      ]
     },
     "execution_count": 16,
     "metadata": {},
     "output_type": "execute_result"
    }
   ],
   "source": [
    "beta4[21]"
   ]
  },
  {
   "cell_type": "code",
   "execution_count": 17,
   "metadata": {},
   "outputs": [
    {
     "data": {
      "text/plain": [
       "1.34221958"
      ]
     },
     "execution_count": 17,
     "metadata": {},
     "output_type": "execute_result"
    }
   ],
   "source": [
    "beta4[0]"
   ]
  },
  {
   "cell_type": "code",
   "execution_count": 24,
   "metadata": {},
   "outputs": [
    {
     "data": {
      "text/plain": [
       "1.62889706"
      ]
     },
     "execution_count": 24,
     "metadata": {},
     "output_type": "execute_result"
    }
   ],
   "source": [
    "beta4[50]"
   ]
  },
  {
   "cell_type": "code",
   "execution_count": 20,
   "metadata": {},
   "outputs": [
    {
     "data": {
      "text/plain": [
       "2.13065256"
      ]
     },
     "execution_count": 20,
     "metadata": {},
     "output_type": "execute_result"
    }
   ],
   "source": [
    "beta4[45]"
   ]
  },
  {
   "cell_type": "code",
   "execution_count": 21,
   "metadata": {},
   "outputs": [
    {
     "data": {
      "text/plain": [
       "2.51350213"
      ]
     },
     "execution_count": 21,
     "metadata": {},
     "output_type": "execute_result"
    }
   ],
   "source": [
    "beta4[32]"
   ]
  },
  {
   "cell_type": "code",
   "execution_count": 22,
   "metadata": {},
   "outputs": [
    {
     "data": {
      "text/plain": [
       "2.9919806"
      ]
     },
     "execution_count": 22,
     "metadata": {},
     "output_type": "execute_result"
    }
   ],
   "source": [
    "beta4[82]"
   ]
  },
  {
   "cell_type": "code",
   "execution_count": 23,
   "metadata": {},
   "outputs": [
    {
     "data": {
      "text/plain": [
       "3.27215605"
      ]
     },
     "execution_count": 23,
     "metadata": {},
     "output_type": "execute_result"
    }
   ],
   "source": [
    "beta4[36]"
   ]
  },
  {
   "cell_type": "code",
   "execution_count": 13,
   "metadata": {},
   "outputs": [
    {
     "data": {
      "text/plain": [
       "4.62340954"
      ]
     },
     "execution_count": 13,
     "metadata": {},
     "output_type": "execute_result"
    }
   ],
   "source": [
    "beta4[23]"
   ]
  },
  {
   "cell_type": "code",
   "execution_count": 1,
   "metadata": {},
   "outputs": [],
   "source": [
    "#测试代码"
   ]
  },
  {
   "cell_type": "code",
   "execution_count": 1,
   "metadata": {},
   "outputs": [],
   "source": [
    "import numpy as np\n",
    "import matplotlib.pyplot as plt\n",
    "import random\n",
    "from sympy import *\n",
    "import math"
   ]
  },
  {
   "cell_type": "code",
   "execution_count": 2,
   "metadata": {},
   "outputs": [],
   "source": [
    "mu5 = 7  #期望为2.5\n",
    "sigma5 =3  #标准差为1\n",
    "num5 = 1  #个数为100"
   ]
  },
  {
   "cell_type": "code",
   "execution_count": 3,
   "metadata": {},
   "outputs": [],
   "source": [
    "random_number_normal_distribution5=[]"
   ]
  },
  {
   "cell_type": "code",
   "execution_count": 4,
   "metadata": {},
   "outputs": [],
   "source": [
    "for i in range(0,1000):\n",
    "    random_number_normal_distribution5.append(np.random.normal(mu5, sigma5, num5))"
   ]
  },
  {
   "cell_type": "code",
   "execution_count": 5,
   "metadata": {},
   "outputs": [
    {
     "name": "stdout",
     "output_type": "stream",
     "text": [
      "[array([5.2949777]), array([5.30515794]), array([8.45721027]), array([5.02668528]), array([4.9054338]), array([4.36504121]), array([4.64096607]), array([7.79438353]), array([10.42865241]), array([2.21042326]), array([7.59558586]), array([8.01333322]), array([6.66325985]), array([6.12336834]), array([3.22474873]), array([9.67914624]), array([11.4997906]), array([7.33811592]), array([3.51579851]), array([6.8938073]), array([8.97500201]), array([7.90073282]), array([11.52017463]), array([6.83660849]), array([6.73578467]), array([4.36962577]), array([11.8211132]), array([12.25288146]), array([8.46795176]), array([9.06153072]), array([4.36786924]), array([6.06698567]), array([3.55401227]), array([2.01704103]), array([7.47143379]), array([5.8670282]), array([6.82552489]), array([3.22696673]), array([8.92009046]), array([10.0321143]), array([9.22831914]), array([8.37503071]), array([13.42743198]), array([2.68023436]), array([9.04663619]), array([5.71685176]), array([4.07631176]), array([4.60431161]), array([5.46750493]), array([1.22881916]), array([8.3822949]), array([6.06429165]), array([6.88133534]), array([13.32100534]), array([4.48336281]), array([10.64822825]), array([3.89808547]), array([5.85955444]), array([7.11356092]), array([9.75665764]), array([11.05558111]), array([2.97574806]), array([6.64001266]), array([2.30754433]), array([6.30482118]), array([9.15296342]), array([6.34338829]), array([6.89441647]), array([9.49852289]), array([6.67079394]), array([9.74634122]), array([4.81448602]), array([8.51266861]), array([4.4145008]), array([4.53598121]), array([6.05066061]), array([6.96710937]), array([10.53153332]), array([9.13203549]), array([9.96664636]), array([10.67508201]), array([7.22635963]), array([8.332363]), array([10.08360929]), array([6.4902715]), array([8.8431099]), array([13.68184954]), array([5.6515863]), array([3.46278902]), array([5.66972301]), array([2.30494788]), array([7.55369493]), array([3.32893435]), array([11.29461088]), array([5.65525834]), array([7.93619537]), array([4.57581136]), array([7.78312846]), array([10.1613575]), array([10.40566345]), array([4.38902549]), array([11.20998896]), array([10.78027306]), array([6.32167253]), array([6.05010706]), array([9.57213043]), array([4.31358694]), array([6.97662228]), array([10.0828094]), array([6.38314039]), array([10.09328366]), array([11.47433011]), array([6.60855545]), array([3.50828783]), array([11.68509415]), array([5.20173826]), array([9.0707091]), array([2.1807499]), array([7.49147381]), array([7.98859128]), array([5.43046501]), array([6.06145077]), array([7.44965011]), array([8.45880071]), array([4.83266504]), array([8.31856448]), array([6.98237325]), array([10.59042032]), array([3.41070754]), array([11.67609345]), array([9.59023221]), array([3.06231334]), array([11.41252845]), array([8.62208915]), array([10.36765342]), array([9.98449996]), array([5.52512857]), array([9.50736031]), array([4.70490402]), array([8.7951675]), array([11.89218849]), array([10.06384325]), array([4.94107714]), array([4.06828076]), array([8.82575148]), array([8.16934551]), array([5.95314241]), array([7.19184235]), array([10.15752758]), array([9.06023441]), array([7.5904547]), array([5.47870591]), array([5.2277388]), array([8.6920255]), array([5.73006412]), array([12.13588167]), array([11.54956162]), array([3.8007088]), array([11.07146888]), array([7.76098985]), array([4.38048323]), array([6.78828995]), array([4.80276371]), array([5.78586453]), array([3.64520102]), array([9.07084893]), array([8.03406055]), array([9.44849386]), array([12.79940318]), array([6.9856724]), array([10.50819866]), array([9.78506716]), array([4.68433612]), array([7.78693896]), array([8.99923112]), array([4.09411866]), array([10.38672317]), array([9.57888388]), array([8.43806935]), array([5.60111718]), array([4.72870931]), array([7.32565288]), array([8.56512175]), array([1.27154011]), array([7.44568325]), array([3.78642659]), array([8.76587393]), array([3.61723617]), array([8.93739205]), array([4.26710371]), array([7.95221103]), array([10.22316417]), array([4.48625108]), array([14.36795514]), array([4.70338366]), array([8.06390636]), array([6.285609]), array([2.66260322]), array([9.27720346]), array([5.78668227]), array([4.15013137]), array([8.54440843]), array([8.56463204]), array([0.90756493]), array([12.82246997]), array([7.27142419]), array([9.07203227]), array([7.47043782]), array([9.39135058]), array([8.66380706]), array([9.60315514]), array([6.83217276]), array([9.06560814]), array([6.09908884]), array([4.03337966]), array([4.53534306]), array([10.12464836]), array([6.39074883]), array([6.34251861]), array([10.81095639]), array([1.36429014]), array([4.91976956]), array([6.27836834]), array([9.47049939]), array([8.80582829]), array([6.44983987]), array([4.78448428]), array([6.02328163]), array([8.45130127]), array([4.76887858]), array([7.68889205]), array([5.70768128]), array([6.57456865]), array([7.27034194]), array([4.39217493]), array([11.0170302]), array([6.54168039]), array([8.07993986]), array([2.61148647]), array([5.3732779]), array([5.59830589]), array([5.03654824]), array([2.30346975]), array([6.24324635]), array([5.30141431]), array([9.45303193]), array([8.35898294]), array([10.38527435]), array([3.80302618]), array([9.90613]), array([7.16975387]), array([8.47478525]), array([3.44714846]), array([13.38764887]), array([11.85795]), array([7.34415802]), array([5.70865754]), array([5.73035225]), array([2.97158689]), array([0.41770463]), array([3.71449131]), array([8.35749603]), array([9.36063467]), array([10.3312136]), array([9.84262198]), array([3.66122114]), array([7.10118256]), array([1.99889128]), array([7.84166469]), array([8.27696129]), array([8.61262333]), array([1.73760715]), array([6.58592376]), array([6.59069479]), array([7.31170684]), array([10.13175803]), array([6.50933846]), array([11.19971147]), array([10.63593477]), array([7.7558041]), array([5.9487555]), array([8.48748197]), array([5.07707355]), array([3.81936064]), array([13.19240769]), array([4.94016623]), array([-1.04193933]), array([7.60113943]), array([6.3743492]), array([10.48605307]), array([7.01394879]), array([14.5648899]), array([2.86358627]), array([2.30525385]), array([0.01901692]), array([5.31878971]), array([3.61103112]), array([4.45753432]), array([5.7180661]), array([9.91362975]), array([6.58961125]), array([9.98539302]), array([11.01145671]), array([4.65116065]), array([5.99175603]), array([6.46103112]), array([4.14064052]), array([5.76533804]), array([13.14916983]), array([1.5707643]), array([5.60045625]), array([6.01065637]), array([4.11827743]), array([9.95689379]), array([11.50180334]), array([8.86224751]), array([8.89015634]), array([8.09268443]), array([8.4462296]), array([6.3677571]), array([5.41676322]), array([0.81225435]), array([9.35450638]), array([7.80003847]), array([7.37047449]), array([12.53809083]), array([10.05445911]), array([3.69073925]), array([2.11181109]), array([6.90624306]), array([5.29553345]), array([8.32925683]), array([4.79884423]), array([6.62499131]), array([7.50289882]), array([4.90367135]), array([8.83639121]), array([7.07398208]), array([6.92716668]), array([0.87666812]), array([11.90140748]), array([6.91203513]), array([4.36912798]), array([10.96529026]), array([6.00798886]), array([6.70546099]), array([4.36891212]), array([6.39516045]), array([3.00683256]), array([9.15490407]), array([2.06561181]), array([8.74501664]), array([11.01510116]), array([10.42895463]), array([3.97018638]), array([5.72532953]), array([6.05538627]), array([9.82295687]), array([1.70670938]), array([-0.69866405]), array([6.47394311]), array([5.07304044]), array([6.70094975]), array([8.40075098]), array([11.6207072]), array([7.81953507]), array([9.81555579]), array([6.453891]), array([9.84460583]), array([5.14228724]), array([10.64946423]), array([3.83124836]), array([5.61306137]), array([10.63096904]), array([6.92164093]), array([14.95752591]), array([9.54849301]), array([1.05022171]), array([6.03179359]), array([3.87824763]), array([3.80912331]), array([11.80473538]), array([4.85664916]), array([5.5741522]), array([5.62566969]), array([5.47190706]), array([2.56613999]), array([7.83063261]), array([5.8924543]), array([2.6157093]), array([7.25063567]), array([4.23984902]), array([8.31681763]), array([11.92839288]), array([2.95567264]), array([7.95213846]), array([6.67641651]), array([10.59912368]), array([6.05363825]), array([9.9861904]), array([4.07680066]), array([6.08161037]), array([7.12195133]), array([1.76469333]), array([3.40464032]), array([7.61952117]), array([3.4368064]), array([13.66081814]), array([3.37695447]), array([10.38766497]), array([3.97331951]), array([4.78143997]), array([9.58361958]), array([6.76627061]), array([6.37554218]), array([8.84265609]), array([8.17845606]), array([12.66919272]), array([5.21335285]), array([-0.55974581]), array([4.77882614]), array([5.42876695]), array([8.85143725]), array([1.16167882]), array([3.25411161]), array([6.37013804]), array([6.25403066]), array([1.05452273]), array([4.33661134]), array([5.68932189]), array([11.00973034]), array([7.31044621]), array([5.68841614]), array([5.81874803]), array([9.12721234]), array([3.05144314]), array([9.04671333]), array([6.65816255]), array([12.53693943]), array([6.34991023]), array([3.67993738]), array([4.59479058]), array([10.92844978]), array([2.77008842]), array([6.24212011]), array([4.02543266]), array([10.05927416]), array([4.81771453]), array([6.32559024]), array([-1.0946934]), array([6.95579853]), array([8.38005143]), array([13.13368218]), array([12.98398052]), array([8.7670664]), array([4.5629647]), array([7.12685977]), array([5.98237829]), array([8.42558439]), array([1.35842755]), array([7.33791256]), array([5.67391703]), array([6.41781879]), array([8.38946718]), array([14.16510878]), array([1.82622757]), array([0.70563238]), array([7.83548244]), array([7.61246082]), array([5.4694416]), array([8.42556201]), array([3.05637497]), array([10.45461033]), array([11.92386894]), array([9.37551704]), array([6.90325185]), array([2.28962757]), array([2.83775221]), array([5.66826358]), array([6.19048147]), array([4.90368807]), array([10.56692808]), array([6.18765843]), array([7.60344821]), array([1.54254842]), array([4.08466547]), array([7.00088734]), array([4.47816645]), array([9.29733254]), array([4.22084389]), array([6.20035221]), array([6.04776114]), array([9.58889246]), array([11.06145606]), array([15.64769322]), array([11.12942218]), array([4.24931649]), array([2.94220057]), array([8.15628463]), array([4.77687955]), array([7.58783655]), array([2.94680707]), array([9.53855086]), array([6.53746149]), array([9.91671055]), array([3.15572385]), array([4.55553967]), array([7.7724403]), array([3.46884854]), array([0.49558693]), array([5.2320649]), array([8.72263898]), array([2.66803341]), array([6.66613192]), array([6.83123143]), array([11.68412375]), array([11.09628971]), array([8.27275912]), array([9.79552144]), array([10.04276174]), array([8.57296864]), array([5.25552793]), array([1.37842605]), array([8.39594055]), array([4.51134773]), array([5.78679746]), array([6.08983136]), array([12.62106709]), array([6.31724206]), array([7.79666588]), array([5.63229252]), array([7.25216954]), array([5.24378731]), array([3.3449703]), array([9.12601561]), array([7.7226908]), array([0.2451061]), array([7.08237571]), array([6.76278399]), array([11.42587682]), array([6.77461489]), array([11.17526554]), array([9.69484504]), array([7.22469576]), array([9.63361588]), array([8.73409257]), array([4.89898941]), array([0.10080528]), array([9.4387572]), array([7.99472137]), array([6.80123009]), array([9.0695605]), array([0.8044751]), array([6.94301616]), array([7.10006272]), array([13.74638799]), array([9.6907663]), array([4.80066575]), array([7.19699113]), array([8.3518797]), array([5.15890272]), array([10.98225052]), array([6.12916999]), array([4.59998144]), array([11.39006389]), array([8.47792185]), array([6.83713925]), array([7.18303327]), array([2.81617217]), array([7.56806968]), array([11.66545942]), array([7.28187823]), array([9.94887371]), array([12.06372469]), array([7.0518415]), array([11.55303896]), array([5.11177197]), array([8.7095074]), array([8.92059167]), array([9.0595955]), array([8.29171853]), array([7.83289527]), array([6.85346824]), array([5.60261545]), array([12.15534359]), array([10.91789257]), array([4.4515708]), array([7.5920281]), array([5.86359936]), array([6.29322982]), array([5.65998301]), array([8.52814624]), array([2.50554581]), array([8.235651]), array([5.96763775]), array([3.68453722]), array([11.10742021]), array([8.56748818]), array([7.63847077]), array([7.97859065]), array([9.86406606]), array([8.3253322]), array([3.71607981]), array([2.61748155]), array([9.98599276]), array([9.07572491]), array([5.13244104]), array([9.43900512]), array([1.87602613]), array([8.20642772]), array([4.46378272]), array([1.08848119]), array([8.66452262]), array([7.96999375]), array([4.36902388]), array([4.69003371]), array([12.05184204]), array([4.61164202]), array([9.34939817]), array([9.03011505]), array([5.5135723]), array([8.65911391]), array([1.65820015]), array([9.16486519]), array([2.04290912]), array([0.85911819]), array([5.05462078]), array([3.8778422]), array([7.8382031]), array([3.4803358]), array([12.22432416]), array([7.10329515]), array([8.31780038]), array([11.292416]), array([2.19881531]), array([10.42089367]), array([6.15147721]), array([9.1694264]), array([5.86975612]), array([11.36914564]), array([5.71681887]), array([6.02949241]), array([9.54494295]), array([4.47815301]), array([4.87704907]), array([9.05577007]), array([7.39289589]), array([4.4646835]), array([8.30794625]), array([3.65611582]), array([7.7767923]), array([8.84548973]), array([10.17599374]), array([5.79519262]), array([3.06031362]), array([11.53985975]), array([7.76628497]), array([6.43594104]), array([5.83047441]), array([11.51664204]), array([4.3741806]), array([9.20145119]), array([4.62783217]), array([4.79689677]), array([8.59837441]), array([6.37149793]), array([7.04236927]), array([1.31497327]), array([10.95984564]), array([15.70817564]), array([7.3073682]), array([4.46508494]), array([3.16870975]), array([11.56233512]), array([4.3470022]), array([3.57100412]), array([9.77240803]), array([5.56322982]), array([3.84686088]), array([6.37597819]), array([11.80282606]), array([3.59777969]), array([5.2324907]), array([6.94003962]), array([9.02634634]), array([10.55079535]), array([9.17891714]), array([7.03912083]), array([4.17124991]), array([9.94071731]), array([5.94036767]), array([6.9685339]), array([8.75101039]), array([1.24065205]), array([6.38119099]), array([6.931817]), array([5.44251699]), array([6.23029399]), array([5.79402188]), array([9.4734807]), array([0.19217735]), array([7.5862894]), array([9.10505272]), array([6.23274175]), array([8.9692796]), array([12.7804513]), array([2.91105017]), array([8.88369409]), array([8.31652192]), array([7.91973997]), array([3.43330686]), array([4.72104217]), array([5.61794989]), array([4.54173617]), array([7.89049059]), array([8.80238444]), array([10.07416521]), array([3.80321775]), array([8.51358485]), array([5.72824397]), array([5.68443112]), array([5.00616826]), array([7.67412072]), array([8.76954647]), array([10.87816819]), array([7.4123853]), array([10.5389445]), array([10.29228262]), array([4.29750711]), array([12.00060624]), array([4.84900878]), array([2.1918997]), array([4.6972695]), array([4.10784407]), array([6.0586464]), array([3.59436537]), array([6.22465908]), array([8.90903729]), array([12.08789335]), array([9.63358532]), array([11.61848118]), array([6.40077142]), array([1.67773964]), array([8.00856389]), array([7.93284031]), array([8.54498321]), array([6.4839385]), array([3.35095924]), array([7.13623248]), array([9.92157125]), array([10.78910235]), array([4.02776467]), array([9.98698585]), array([4.60550376]), array([9.96745418]), array([8.66191118]), array([5.67879912]), array([5.22393566]), array([3.38593624]), array([5.31700138]), array([4.97120124]), array([9.27793115]), array([5.20320413]), array([4.97943391]), array([6.77929838]), array([10.92717432]), array([2.94995313]), array([4.84532371]), array([13.6842482]), array([10.72362287]), array([7.2516721]), array([1.84137485]), array([2.16084216]), array([5.71868488]), array([4.26277294]), array([14.08751811]), array([8.31019244]), array([1.11888399]), array([10.80069817]), array([6.21543675]), array([5.47287541]), array([6.29797395]), array([2.80846148]), array([7.99542041]), array([5.07524312]), array([7.80465109]), array([6.70454644]), array([2.33473625]), array([5.77153698]), array([8.65420162]), array([16.68613793]), array([9.12593938]), array([6.73730452]), array([7.02874419]), array([7.12019883]), array([3.69346677]), array([6.31404545]), array([4.68600467]), array([9.65209056]), array([0.95484973]), array([3.1502941]), array([5.52506254]), array([5.64698624]), array([5.0624833]), array([7.06104251]), array([7.06201744]), array([9.19326634]), array([4.23783676]), array([2.37870169]), array([7.06736234]), array([8.65695458]), array([13.17247753]), array([8.86612716]), array([1.4803473]), array([10.31493436]), array([7.61166638]), array([3.03006446]), array([10.68690314]), array([8.53165472]), array([12.47464991]), array([7.90237291]), array([9.60535475]), array([5.90933519]), array([7.75965195]), array([7.38716808]), array([7.49395026]), array([7.29574159]), array([3.50671896]), array([4.28667405]), array([6.29029036]), array([8.68797258]), array([7.9457701]), array([8.69783349]), array([11.13365173]), array([9.12047353]), array([5.23076179]), array([5.77292872]), array([3.24979849]), array([10.98089027]), array([8.12029214]), array([13.4630837]), array([7.63838715]), array([4.6515675]), array([-1.99743565]), array([3.93397331]), array([5.62153727]), array([6.2472082]), array([5.27377008]), array([10.50102132]), array([2.46768855]), array([3.73585489]), array([4.56025074]), array([9.45131387]), array([11.16377612]), array([9.33737317]), array([9.92228243]), array([10.5757031]), array([9.08725295]), array([5.60970053]), array([6.28393956]), array([10.99099911]), array([4.76744114]), array([9.11383561]), array([7.80841098]), array([3.08967732]), array([9.17455104]), array([8.07616555]), array([2.41011974]), array([6.56141357]), array([7.97947843]), array([7.9286834]), array([4.84095232]), array([0.83217977]), array([6.16768741]), array([6.39865696]), array([7.86152692]), array([11.5576409]), array([6.88438463]), array([1.95545696]), array([11.77939046]), array([3.52233187]), array([5.25094268]), array([5.4350785]), array([12.3642279]), array([11.52893406]), array([8.25495299]), array([4.86275191]), array([9.32638688]), array([6.44940184]), array([5.87459642]), array([10.31433472]), array([11.13476806]), array([13.79429885]), array([6.61357201]), array([6.57402474]), array([4.77055023]), array([6.18960911]), array([6.62862904]), array([6.98113976]), array([9.80924246]), array([4.9576505]), array([11.18236989]), array([9.97469619]), array([7.9777545]), array([3.95868997]), array([7.85895941]), array([6.58943958]), array([8.38485416]), array([11.1013915]), array([6.32607808]), array([12.08388034]), array([11.27689841]), array([4.63457768]), array([3.27079379]), array([6.77216953]), array([3.1538881]), array([4.12098098]), array([6.0584933]), array([5.96292938]), array([12.26389558]), array([7.39098484]), array([4.33641595]), array([10.90880248]), array([11.27458813]), array([8.71060785]), array([6.49325544]), array([9.97246277]), array([6.16585569]), array([8.8276602]), array([10.19877539]), array([7.50371122]), array([8.86221759]), array([6.4756815]), array([9.7037057]), array([6.47772979]), array([8.96588015]), array([8.10817861]), array([11.42155309]), array([11.30545474]), array([12.23064277]), array([3.48943571]), array([5.64697613]), array([9.09738784]), array([10.20947116]), array([9.58520832]), array([7.05091719]), array([5.944785]), array([11.39738092]), array([0.95396275]), array([3.53766954]), array([6.94031474]), array([1.54188687]), array([8.66177565]), array([11.05049142]), array([13.10370488]), array([8.63184039]), array([10.03261286]), array([4.9357282]), array([11.80485499]), array([8.27184826]), array([7.35819811]), array([6.82359867]), array([7.42094379]), array([11.293755]), array([1.51386917]), array([4.63840698]), array([10.0788251]), array([9.6022437]), array([7.57978525]), array([10.82275957]), array([7.88005206]), array([5.51439704]), array([7.64415945]), array([2.78262167]), array([5.08399017]), array([8.43821316]), array([7.99368661]), array([4.69385208]), array([-0.18869838]), array([4.42998419]), array([7.17438882]), array([10.9429714]), array([7.58669733]), array([4.97979822]), array([5.83348835]), array([12.00777795]), array([7.1891174]), array([13.35784822]), array([4.46492251]), array([9.76888758]), array([6.36785625]), array([4.64641163]), array([9.7773376]), array([5.44778186]), array([9.9593638]), array([2.68583798]), array([10.16529769]), array([9.54165239]), array([4.2936602]), array([3.70498116])]\n"
     ]
    }
   ],
   "source": [
    "print(random_number_normal_distribution5)"
   ]
  },
  {
   "cell_type": "code",
   "execution_count": null,
   "metadata": {},
   "outputs": [],
   "source": [
    "正态分布/高斯分布"
   ]
  },
  {
   "cell_type": "code",
   "execution_count": 5,
   "metadata": {},
   "outputs": [],
   "source": [
    "import numpy as np\n",
    "import matplotlib.pyplot as plt\n",
    "import random\n",
    "from sympy import *\n",
    "import math"
   ]
  },
  {
   "cell_type": "code",
   "execution_count": 6,
   "metadata": {},
   "outputs": [],
   "source": [
    "mu1 = 300  #期望为2\n",
    "sigma1 = 100 #标准差为0.5\n",
    "num1 = 100  #个数为100"
   ]
  },
  {
   "cell_type": "code",
   "execution_count": 7,
   "metadata": {},
   "outputs": [],
   "source": [
    "random_number_normal_distribution1 = np.random.normal(mu1, sigma1, num1)"
   ]
  },
  {
   "cell_type": "code",
   "execution_count": 8,
   "metadata": {},
   "outputs": [
    {
     "data": {
      "text/plain": [
       "array([228.64975874, 272.47730254, 366.36113565, 309.91039328,\n",
       "       306.97830919, 448.70917335, 298.79012702, 265.76809905,\n",
       "       338.80975595, 443.41593136, 356.6417342 , 291.73347474,\n",
       "       198.35356564, 371.51068025, 140.57291384, 302.03233305,\n",
       "       312.49336218, 320.41320436, 340.20781952, 244.05315722,\n",
       "       467.29097655, 311.35354593, 367.43722942, 215.41835026,\n",
       "       220.71194917,  79.61175177,  18.43754156, 419.27827787,\n",
       "       420.79359392, 295.38634649, 197.26546194, 346.16593883,\n",
       "       289.45953315, 197.42260325, 299.55232493, 396.35015352,\n",
       "       296.60339074, 199.57124329, 273.41953515, 189.57016415,\n",
       "       237.15201676, 155.41367577, 405.88601146, 238.00263239,\n",
       "       209.51575235, 488.04006782, 417.7548811 , 244.94952187,\n",
       "       232.5307021 , 368.16859499, 171.65139779, 357.61697418,\n",
       "        99.3470631 , 337.93170755, 316.97041503, 249.72742886,\n",
       "       222.3119091 , 376.62101654, 373.24498881, 346.71764693,\n",
       "       399.30103289, 388.35962639, 226.63176792, 408.49440007,\n",
       "       284.66296897, 155.79543736, 256.90653467, 389.01007751,\n",
       "       219.15394597, 628.67845736, 354.31827728, 203.11407939,\n",
       "       108.20022012, 254.65499692, 471.9870449 , 273.6392781 ,\n",
       "       298.78215655, 482.35372344, 271.83998732, 384.97868107,\n",
       "       258.15062231, 158.91598164,  95.84917939, 213.78392579,\n",
       "       249.93294685, 274.71986135, 389.48593901, 179.6257666 ,\n",
       "       114.58552795, 250.74728481, 441.74361071, 410.19748547,\n",
       "       266.82791382, 327.88706526, 292.27590364, 241.98765781,\n",
       "        93.8863744 , 262.14009886, 378.69976613, 371.73780008])"
      ]
     },
     "execution_count": 8,
     "metadata": {},
     "output_type": "execute_result"
    }
   ],
   "source": [
    "random_number_normal_distribution1"
   ]
  },
  {
   "cell_type": "code",
   "execution_count": null,
   "metadata": {},
   "outputs": [],
   "source": []
  }
 ],
 "metadata": {
  "kernelspec": {
   "display_name": "Python 3 (ipykernel)",
   "language": "python",
   "name": "python3"
  },
  "language_info": {
   "codemirror_mode": {
    "name": "ipython",
    "version": 3
   },
   "file_extension": ".py",
   "mimetype": "text/x-python",
   "name": "python",
   "nbconvert_exporter": "python",
   "pygments_lexer": "ipython3",
   "version": "3.9.13"
  }
 },
 "nbformat": 4,
 "nbformat_minor": 4
}
